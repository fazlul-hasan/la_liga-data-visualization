{
 "cells": [
  {
   "cell_type": "code",
   "execution_count": 3,
   "id": "f9a852ff-dfc8-4a86-907f-dbd9f13f0c63",
   "metadata": {},
   "outputs": [
    {
     "name": "stdout",
     "output_type": "stream",
     "text": [
      "Requirement already satisfied: gmaps in c:\\users\\fazlu\\appdata\\local\\programs\\python\\python311\\lib\\site-packages (0.9.0)\n",
      "Requirement already satisfied: ipython>=5.3.0 in c:\\users\\fazlu\\appdata\\local\\programs\\python\\python311\\lib\\site-packages (from gmaps) (8.14.0)\n",
      "Requirement already satisfied: ipywidgets>=7.0.0 in c:\\users\\fazlu\\appdata\\local\\programs\\python\\python311\\lib\\site-packages (from gmaps) (8.1.0)\n",
      "Requirement already satisfied: traitlets>=4.3.0 in c:\\users\\fazlu\\appdata\\local\\programs\\python\\python311\\lib\\site-packages (from gmaps) (5.9.0)\n",
      "Requirement already satisfied: geojson>=2.0.0 in c:\\users\\fazlu\\appdata\\local\\programs\\python\\python311\\lib\\site-packages (from gmaps) (3.0.1)\n",
      "Requirement already satisfied: six in c:\\users\\fazlu\\appdata\\local\\programs\\python\\python311\\lib\\site-packages (from gmaps) (1.16.0)\n",
      "Requirement already satisfied: backcall in c:\\users\\fazlu\\appdata\\local\\programs\\python\\python311\\lib\\site-packages (from ipython>=5.3.0->gmaps) (0.2.0)\n",
      "Requirement already satisfied: decorator in c:\\users\\fazlu\\appdata\\local\\programs\\python\\python311\\lib\\site-packages (from ipython>=5.3.0->gmaps) (5.1.1)\n",
      "Requirement already satisfied: jedi>=0.16 in c:\\users\\fazlu\\appdata\\local\\programs\\python\\python311\\lib\\site-packages (from ipython>=5.3.0->gmaps) (0.19.0)\n",
      "Requirement already satisfied: matplotlib-inline in c:\\users\\fazlu\\appdata\\local\\programs\\python\\python311\\lib\\site-packages (from ipython>=5.3.0->gmaps) (0.1.6)\n",
      "Requirement already satisfied: pickleshare in c:\\users\\fazlu\\appdata\\local\\programs\\python\\python311\\lib\\site-packages (from ipython>=5.3.0->gmaps) (0.7.5)\n",
      "Requirement already satisfied: prompt-toolkit!=3.0.37,<3.1.0,>=3.0.30 in c:\\users\\fazlu\\appdata\\local\\programs\\python\\python311\\lib\\site-packages (from ipython>=5.3.0->gmaps) (3.0.39)\n",
      "Requirement already satisfied: pygments>=2.4.0 in c:\\users\\fazlu\\appdata\\local\\programs\\python\\python311\\lib\\site-packages (from ipython>=5.3.0->gmaps) (2.16.1)\n",
      "Requirement already satisfied: stack-data in c:\\users\\fazlu\\appdata\\local\\programs\\python\\python311\\lib\\site-packages (from ipython>=5.3.0->gmaps) (0.6.2)\n",
      "Requirement already satisfied: colorama in c:\\users\\fazlu\\appdata\\local\\programs\\python\\python311\\lib\\site-packages (from ipython>=5.3.0->gmaps) (0.4.6)\n",
      "Requirement already satisfied: comm>=0.1.3 in c:\\users\\fazlu\\appdata\\local\\programs\\python\\python311\\lib\\site-packages (from ipywidgets>=7.0.0->gmaps) (0.1.4)\n",
      "Requirement already satisfied: widgetsnbextension~=4.0.7 in c:\\users\\fazlu\\appdata\\local\\programs\\python\\python311\\lib\\site-packages (from ipywidgets>=7.0.0->gmaps) (4.0.8)\n",
      "Requirement already satisfied: jupyterlab-widgets~=3.0.7 in c:\\users\\fazlu\\appdata\\local\\programs\\python\\python311\\lib\\site-packages (from ipywidgets>=7.0.0->gmaps) (3.0.8)\n",
      "Requirement already satisfied: parso<0.9.0,>=0.8.3 in c:\\users\\fazlu\\appdata\\local\\programs\\python\\python311\\lib\\site-packages (from jedi>=0.16->ipython>=5.3.0->gmaps) (0.8.3)\n",
      "Requirement already satisfied: wcwidth in c:\\users\\fazlu\\appdata\\local\\programs\\python\\python311\\lib\\site-packages (from prompt-toolkit!=3.0.37,<3.1.0,>=3.0.30->ipython>=5.3.0->gmaps) (0.2.6)\n",
      "Requirement already satisfied: executing>=1.2.0 in c:\\users\\fazlu\\appdata\\local\\programs\\python\\python311\\lib\\site-packages (from stack-data->ipython>=5.3.0->gmaps) (1.2.0)\n",
      "Requirement already satisfied: asttokens>=2.1.0 in c:\\users\\fazlu\\appdata\\local\\programs\\python\\python311\\lib\\site-packages (from stack-data->ipython>=5.3.0->gmaps) (2.2.1)\n",
      "Requirement already satisfied: pure-eval in c:\\users\\fazlu\\appdata\\local\\programs\\python\\python311\\lib\\site-packages (from stack-data->ipython>=5.3.0->gmaps) (0.2.2)\n"
     ]
    },
    {
     "name": "stderr",
     "output_type": "stream",
     "text": [
      "\n",
      "[notice] A new release of pip is available: 23.2.1 -> 23.3.1\n",
      "[notice] To update, run: python.exe -m pip install --upgrade pip\n"
     ]
    }
   ],
   "source": [
    "!pip install gmaps"
   ]
  },
  {
   "cell_type": "code",
   "execution_count": null,
   "id": "a55becc9-400f-47b9-91de-e015bf5a5afc",
   "metadata": {},
   "outputs": [],
   "source": [
    "import pandas as pd\n",
    "import gmaps\n",
    "import gmaps.datasets\n",
    "\n",
    "\n",
    "data = pd.read_csv('spain_club_data.csv')\n",
    "\n",
    "\n",
    "gmaps.configure(api_key='YOUR_API_KEY')\n",
    "\n",
    "\n",
    "fig = gmaps.figure(center=(40.4637, -3.7492), zoom_level=6)\n",
    "\n",
    "\n",
    "locations = data[['latitude', 'longitude']]\n",
    "\n",
    "\n",
    "marker_layer = gmaps.marker_layer(locations, info_box_content=data['club_name'])\n",
    "\n",
    "\n",
    "fig.add_layer(marker_layer)\n",
    "\n",
    "\n",
    "fig"
   ]
  },
  {
   "cell_type": "code",
   "execution_count": null,
   "id": "349ac5a1-932d-4a0e-a34d-9d821a5b56dc",
   "metadata": {},
   "outputs": [],
   "source": []
  }
 ],
 "metadata": {
  "kernelspec": {
   "display_name": "Python 3 (ipykernel)",
   "language": "python",
   "name": "python3"
  },
  "language_info": {
   "codemirror_mode": {
    "name": "ipython",
    "version": 3
   },
   "file_extension": ".py",
   "mimetype": "text/x-python",
   "name": "python",
   "nbconvert_exporter": "python",
   "pygments_lexer": "ipython3",
   "version": "3.11.4"
  }
 },
 "nbformat": 4,
 "nbformat_minor": 5
}
