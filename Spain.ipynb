{
 "cells": [
  {
   "cell_type": "code",
   "execution_count": 1,
   "id": "c4c17d8d-a533-44b4-8fd4-32704f5d8a99",
   "metadata": {},
   "outputs": [
    {
     "name": "stdout",
     "output_type": "stream",
     "text": [
      "Requirement already satisfied: pandas in c:\\users\\fazlu\\appdata\\local\\programs\\python\\python311\\lib\\site-packages (2.1.0)\n",
      "Requirement already satisfied: numpy>=1.23.2 in c:\\users\\fazlu\\appdata\\local\\programs\\python\\python311\\lib\\site-packages (from pandas) (1.25.2)\n",
      "Requirement already satisfied: python-dateutil>=2.8.2 in c:\\users\\fazlu\\appdata\\local\\programs\\python\\python311\\lib\\site-packages (from pandas) (2.8.2)\n",
      "Requirement already satisfied: pytz>=2020.1 in c:\\users\\fazlu\\appdata\\local\\programs\\python\\python311\\lib\\site-packages (from pandas) (2023.3)\n",
      "Requirement already satisfied: tzdata>=2022.1 in c:\\users\\fazlu\\appdata\\local\\programs\\python\\python311\\lib\\site-packages (from pandas) (2023.3)\n",
      "Requirement already satisfied: six>=1.5 in c:\\users\\fazlu\\appdata\\local\\programs\\python\\python311\\lib\\site-packages (from python-dateutil>=2.8.2->pandas) (1.16.0)\n"
     ]
    },
    {
     "name": "stderr",
     "output_type": "stream",
     "text": [
      "\n",
      "[notice] A new release of pip is available: 23.2.1 -> 23.3\n",
      "[notice] To update, run: python.exe -m pip install --upgrade pip\n"
     ]
    }
   ],
   "source": [
    "!pip install pandas\n"
   ]
  },
  {
   "cell_type": "code",
   "execution_count": 2,
   "id": "251d48cc-5458-4e7a-8b66-50c5ffba9e14",
   "metadata": {},
   "outputs": [
    {
     "name": "stdout",
     "output_type": "stream",
     "text": [
      "Requirement already satisfied: folium in c:\\users\\fazlu\\appdata\\local\\programs\\python\\python311\\lib\\site-packages (0.14.0)\n",
      "Requirement already satisfied: branca>=0.6.0 in c:\\users\\fazlu\\appdata\\local\\programs\\python\\python311\\lib\\site-packages (from folium) (0.6.0)\n",
      "Requirement already satisfied: jinja2>=2.9 in c:\\users\\fazlu\\appdata\\local\\programs\\python\\python311\\lib\\site-packages (from folium) (3.1.2)\n",
      "Requirement already satisfied: numpy in c:\\users\\fazlu\\appdata\\local\\programs\\python\\python311\\lib\\site-packages (from folium) (1.25.2)\n",
      "Requirement already satisfied: requests in c:\\users\\fazlu\\appdata\\local\\programs\\python\\python311\\lib\\site-packages (from folium) (2.31.0)\n",
      "Requirement already satisfied: MarkupSafe>=2.0 in c:\\users\\fazlu\\appdata\\local\\programs\\python\\python311\\lib\\site-packages (from jinja2>=2.9->folium) (2.1.3)\n",
      "Requirement already satisfied: charset-normalizer<4,>=2 in c:\\users\\fazlu\\appdata\\local\\programs\\python\\python311\\lib\\site-packages (from requests->folium) (3.2.0)\n",
      "Requirement already satisfied: idna<4,>=2.5 in c:\\users\\fazlu\\appdata\\local\\programs\\python\\python311\\lib\\site-packages (from requests->folium) (3.4)\n",
      "Requirement already satisfied: urllib3<3,>=1.21.1 in c:\\users\\fazlu\\appdata\\local\\programs\\python\\python311\\lib\\site-packages (from requests->folium) (2.0.4)\n",
      "Requirement already satisfied: certifi>=2017.4.17 in c:\\users\\fazlu\\appdata\\local\\programs\\python\\python311\\lib\\site-packages (from requests->folium) (2023.7.22)\n"
     ]
    },
    {
     "name": "stderr",
     "output_type": "stream",
     "text": [
      "\n",
      "[notice] A new release of pip is available: 23.2.1 -> 23.3\n",
      "[notice] To update, run: python.exe -m pip install --upgrade pip\n"
     ]
    }
   ],
   "source": [
    "!pip install folium"
   ]
  },
  {
   "cell_type": "code",
   "execution_count": 98,
   "id": "55f089ec-f001-4abd-a0f9-e50afcffa06e",
   "metadata": {},
   "outputs": [
    {
     "data": {
      "text/html": [
       "<div>\n",
       "<style scoped>\n",
       "    .dataframe tbody tr th:only-of-type {\n",
       "        vertical-align: middle;\n",
       "    }\n",
       "\n",
       "    .dataframe tbody tr th {\n",
       "        vertical-align: top;\n",
       "    }\n",
       "\n",
       "    .dataframe thead th {\n",
       "        text-align: right;\n",
       "    }\n",
       "</style>\n",
       "<table border=\"1\" class=\"dataframe\">\n",
       "  <thead>\n",
       "    <tr style=\"text-align: right;\">\n",
       "      <th></th>\n",
       "      <th>club</th>\n",
       "      <th>stadium_name</th>\n",
       "      <th>city</th>\n",
       "      <th>stadium_capacity</th>\n",
       "      <th>latitude</th>\n",
       "      <th>longitude</th>\n",
       "      <th>match_played</th>\n",
       "      <th>win</th>\n",
       "      <th>draw</th>\n",
       "      <th>loss</th>\n",
       "      <th>goal_scored</th>\n",
       "      <th>goal_khasie</th>\n",
       "      <th>goal difference</th>\n",
       "      <th>points</th>\n",
       "      <th>number_of_fans</th>\n",
       "      <th>official_jersy_sponsor</th>\n",
       "    </tr>\n",
       "  </thead>\n",
       "  <tbody>\n",
       "    <tr>\n",
       "      <th>0</th>\n",
       "      <td>Real Madrid</td>\n",
       "      <td>Santiago Bernabey Stadium</td>\n",
       "      <td>Madrid</td>\n",
       "      <td>85000</td>\n",
       "      <td>40.45321</td>\n",
       "      <td>-3.368820</td>\n",
       "      <td>38</td>\n",
       "      <td>26</td>\n",
       "      <td>8</td>\n",
       "      <td>4</td>\n",
       "      <td>80.0</td>\n",
       "      <td>31.0</td>\n",
       "      <td>39.0</td>\n",
       "      <td>86</td>\n",
       "      <td>350.0</td>\n",
       "      <td>Adidas</td>\n",
       "    </tr>\n",
       "    <tr>\n",
       "      <th>1</th>\n",
       "      <td>FC Barcelona</td>\n",
       "      <td>Spotify Camp Nou</td>\n",
       "      <td>Barcelona</td>\n",
       "      <td>100000</td>\n",
       "      <td>41.38106</td>\n",
       "      <td>2.122880</td>\n",
       "      <td>38</td>\n",
       "      <td>21</td>\n",
       "      <td>10</td>\n",
       "      <td>7</td>\n",
       "      <td>70.0</td>\n",
       "      <td>20.0</td>\n",
       "      <td>50.0</td>\n",
       "      <td>73</td>\n",
       "      <td>310.0</td>\n",
       "      <td>Nike</td>\n",
       "    </tr>\n",
       "    <tr>\n",
       "      <th>2</th>\n",
       "      <td>Atletico Madrid</td>\n",
       "      <td>Civitas Metropolitan Stadium</td>\n",
       "      <td>Madrid</td>\n",
       "      <td>45000</td>\n",
       "      <td>40.43625</td>\n",
       "      <td>-3.599520</td>\n",
       "      <td>38</td>\n",
       "      <td>23</td>\n",
       "      <td>8</td>\n",
       "      <td>7</td>\n",
       "      <td>70.0</td>\n",
       "      <td>33.0</td>\n",
       "      <td>37.0</td>\n",
       "      <td>71</td>\n",
       "      <td>35.0</td>\n",
       "      <td>Nike</td>\n",
       "    </tr>\n",
       "    <tr>\n",
       "      <th>3</th>\n",
       "      <td>Sevilla</td>\n",
       "      <td>Ramon Sanchez-Pizajuan Stadium</td>\n",
       "      <td>Sevilla</td>\n",
       "      <td>50000</td>\n",
       "      <td>37.38424</td>\n",
       "      <td>-5.971007</td>\n",
       "      <td>38</td>\n",
       "      <td>18</td>\n",
       "      <td>16</td>\n",
       "      <td>4</td>\n",
       "      <td>47.0</td>\n",
       "      <td>54.0</td>\n",
       "      <td>-7.0</td>\n",
       "      <td>70</td>\n",
       "      <td>7.0</td>\n",
       "      <td>Degiro</td>\n",
       "    </tr>\n",
       "    <tr>\n",
       "      <th>4</th>\n",
       "      <td>Real Betis</td>\n",
       "      <td>Benito Villamarin Stadium</td>\n",
       "      <td>Sevilla</td>\n",
       "      <td>53289</td>\n",
       "      <td>37.35667</td>\n",
       "      <td>-5.981720</td>\n",
       "      <td>38</td>\n",
       "      <td>19</td>\n",
       "      <td>8</td>\n",
       "      <td>11</td>\n",
       "      <td>NaN</td>\n",
       "      <td>NaN</td>\n",
       "      <td>NaN</td>\n",
       "      <td>65</td>\n",
       "      <td>5.8</td>\n",
       "      <td>Hummel</td>\n",
       "    </tr>\n",
       "  </tbody>\n",
       "</table>\n",
       "</div>"
      ],
      "text/plain": [
       "              club                    stadium_name       city  \\\n",
       "0      Real Madrid       Santiago Bernabey Stadium     Madrid   \n",
       "1     FC Barcelona                Spotify Camp Nou  Barcelona   \n",
       "2  Atletico Madrid    Civitas Metropolitan Stadium     Madrid   \n",
       "3          Sevilla  Ramon Sanchez-Pizajuan Stadium    Sevilla   \n",
       "4       Real Betis       Benito Villamarin Stadium    Sevilla   \n",
       "\n",
       "  stadium_capacity  latitude  longitude  match_played  win  draw  loss  \\\n",
       "0            85000  40.45321  -3.368820            38   26     8     4   \n",
       "1           100000  41.38106   2.122880            38   21    10     7   \n",
       "2            45000  40.43625  -3.599520            38   23     8     7   \n",
       "3            50000  37.38424  -5.971007            38   18    16     4   \n",
       "4            53289  37.35667  -5.981720            38   19     8    11   \n",
       "\n",
       "   goal_scored  goal_khasie  goal difference  points  number_of_fans  \\\n",
       "0         80.0         31.0             39.0      86           350.0   \n",
       "1         70.0         20.0             50.0      73           310.0   \n",
       "2         70.0         33.0             37.0      71            35.0   \n",
       "3         47.0         54.0             -7.0      70             7.0   \n",
       "4          NaN          NaN              NaN      65             5.8   \n",
       "\n",
       "  official_jersy_sponsor  \n",
       "0                 Adidas  \n",
       "1                   Nike  \n",
       "2                   Nike  \n",
       "3                 Degiro  \n",
       "4                Hummel   "
      ]
     },
     "execution_count": 98,
     "metadata": {},
     "output_type": "execute_result"
    }
   ],
   "source": [
    "import pandas as pd\n",
    "\n",
    "data = pd.read_csv('spain_club_data.csv')\n",
    "data.head()"
   ]
  },
  {
   "cell_type": "code",
   "execution_count": 99,
   "id": "50c3c26f-6d28-42a3-8cad-de48184457ed",
   "metadata": {},
   "outputs": [],
   "source": [
    "import folium\n",
    "import pandas as pd\n",
    "import geopandas as gpd\n",
    "import matplotlib.pyplot as plt\n"
   ]
  },
  {
   "cell_type": "code",
   "execution_count": 100,
   "id": "b20d3eb3-50d7-424d-bffc-ca470c1ec17f",
   "metadata": {},
   "outputs": [],
   "source": [
    "latitude = 40.4637\n",
    "longitude = -3.7492\n",
    "\n",
    "# Create a map centered at a specific location with a dark tileset\n",
    "m = folium.Map(location=[latitude, longitude], zoom_start=6, tiles='OpenStreetMap')"
   ]
  },
  {
   "cell_type": "code",
   "execution_count": 101,
   "id": "56be237a-8dc7-4234-843b-e5319680ffab",
   "metadata": {},
   "outputs": [],
   "source": [
    "coordinates = []"
   ]
  },
  {
   "cell_type": "code",
   "execution_count": 102,
   "id": "a8aa06d8-dbaa-41c6-a5f1-9d165313e3f8",
   "metadata": {},
   "outputs": [],
   "source": [
    "for index, row in data.iterrows():\n",
    "    location = [row['latitude'], row['longitude']]\n",
    "    icon = folium.CustomIcon(\n",
    "        icon_image='laliga.png',  \n",
    "        icon_size=(45, 70)  \n",
    "    )\n",
    "    tooltip_content = f\"Club: {row['club']}<br>Stadium Capacity: {row['stadium_capacity']}\"\n",
    "    \n",
    "    folium.Marker(\n",
    "        location=location,\n",
    "        icon=icon,\n",
    "        tooltip=tooltip_content\n",
    "    ).add_to(m)"
   ]
  },
  {
   "cell_type": "code",
   "execution_count": 103,
   "id": "d1164d6e-6906-4079-acc0-8fe908407468",
   "metadata": {},
   "outputs": [],
   "source": [
    "for index, row in data.iterrows():\n",
    "    coordinates.append([row['latitude'], row['longitude']])\n"
   ]
  },
  {
   "cell_type": "code",
   "execution_count": 104,
   "id": "c35d5d23-05f8-45b8-a2ea-625fda409f54",
   "metadata": {},
   "outputs": [],
   "source": [
    "\n",
    "# Add a PolyLine to connect the points\n",
    "folium.PolyLine(\n",
    "        locations=coordinates,\n",
    "        color=\"blue\",  \n",
    "        weight=4,       \n",
    "        popup=\"Airport Connectivity\",\n",
    "        ).add_to(m)\n",
    "\n",
    "# Display the map\n",
    "m.save('map.html')"
   ]
  },
  {
   "cell_type": "code",
   "execution_count": null,
   "id": "0cbc8a41-9286-408f-a3e0-e5b0cc13b776",
   "metadata": {},
   "outputs": [],
   "source": []
  },
  {
   "cell_type": "code",
   "execution_count": 130,
   "id": "d9f5043b-f5ec-4d41-9d74-72765df2c125",
   "metadata": {},
   "outputs": [],
   "source": [
    "import pandas as pd\n",
    "import folium\n",
    "from folium.plugins import HeatMap\n",
    "\n",
    "# Create a base map\n",
    "m = folium.Map(location=[latitude, longitude], zoom_start=6, tiles='CartoDB dark_matter')  # Adjust the location and zoom level as needed\n",
    "\n",
    "# Load your CSV data\n",
    "data = pd.read_csv('spain_club_data.csv')  # Replace 'spain_club_data.csv' with the actual path to your CSV file\n",
    "\n",
    "for index, row in data.iterrows():\n",
    "    location = [row['latitude'], row['longitude']]\n",
    "   \n",
    "    \n",
    "    tooltip_content = f\"Club: {row['club']}<br>Stadium Capacity: {row['stadium_capacity']}\"\n",
    "\n",
    "    # Create a marker for each club\n",
    "    folium.Marker(\n",
    "        location=location,\n",
    "        tooltip=tooltip_content\n",
    "    ).add_to(m)\n",
    "\n",
    "# Extract the required columns\n",
    "heatmap_data = data[['latitude', 'longitude', 'number_of_fans']].values.tolist()\n",
    "\n",
    "# Create a HeatMap layer\n",
    "HeatMap(heatmap_data, radius=15).add_to(m)\n",
    "\n",
    "# Save the map as an HTML file\n",
    "m.save('fans_heatmap.html')\n"
   ]
  },
  {
   "cell_type": "code",
   "execution_count": 105,
   "id": "dc530bad-904f-4e33-a3da-26ef689853c1",
   "metadata": {},
   "outputs": [],
   "source": [
    "total_fans = data['number_of_fans'].sum()\n"
   ]
  },
  {
   "cell_type": "code",
   "execution_count": 87,
   "id": "5d97ad6e-1989-40d5-8e46-0b65b1e63901",
   "metadata": {},
   "outputs": [
    {
     "name": "stdout",
     "output_type": "stream",
     "text": [
      "Requirement already satisfied: matplotlib in c:\\users\\fazlu\\appdata\\local\\programs\\python\\python311\\lib\\site-packages (3.7.2)\n",
      "Requirement already satisfied: contourpy>=1.0.1 in c:\\users\\fazlu\\appdata\\local\\programs\\python\\python311\\lib\\site-packages (from matplotlib) (1.1.0)\n",
      "Requirement already satisfied: cycler>=0.10 in c:\\users\\fazlu\\appdata\\local\\programs\\python\\python311\\lib\\site-packages (from matplotlib) (0.11.0)\n",
      "Requirement already satisfied: fonttools>=4.22.0 in c:\\users\\fazlu\\appdata\\local\\programs\\python\\python311\\lib\\site-packages (from matplotlib) (4.42.1)\n",
      "Requirement already satisfied: kiwisolver>=1.0.1 in c:\\users\\fazlu\\appdata\\local\\programs\\python\\python311\\lib\\site-packages (from matplotlib) (1.4.5)\n",
      "Requirement already satisfied: numpy>=1.20 in c:\\users\\fazlu\\appdata\\local\\programs\\python\\python311\\lib\\site-packages (from matplotlib) (1.25.2)\n",
      "Requirement already satisfied: packaging>=20.0 in c:\\users\\fazlu\\appdata\\local\\programs\\python\\python311\\lib\\site-packages (from matplotlib) (23.1)\n",
      "Requirement already satisfied: pillow>=6.2.0 in c:\\users\\fazlu\\appdata\\local\\programs\\python\\python311\\lib\\site-packages (from matplotlib) (10.0.0)\n",
      "Requirement already satisfied: pyparsing<3.1,>=2.3.1 in c:\\users\\fazlu\\appdata\\local\\programs\\python\\python311\\lib\\site-packages (from matplotlib) (3.0.9)\n",
      "Requirement already satisfied: python-dateutil>=2.7 in c:\\users\\fazlu\\appdata\\local\\programs\\python\\python311\\lib\\site-packages (from matplotlib) (2.8.2)\n",
      "Requirement already satisfied: six>=1.5 in c:\\users\\fazlu\\appdata\\local\\programs\\python\\python311\\lib\\site-packages (from python-dateutil>=2.7->matplotlib) (1.16.0)\n"
     ]
    },
    {
     "name": "stderr",
     "output_type": "stream",
     "text": [
      "\n",
      "[notice] A new release of pip is available: 23.2.1 -> 23.3.1\n",
      "[notice] To update, run: python.exe -m pip install --upgrade pip\n"
     ]
    }
   ],
   "source": [
    "!pip install matplotlib"
   ]
  },
  {
   "cell_type": "code",
   "execution_count": 111,
   "id": "5809399e-3deb-42ef-955a-0b828f10417b",
   "metadata": {},
   "outputs": [
    {
     "data": {
      "image/png": "[encoded data removed]",
      "text/plain": [
       "<Figure size 1200x800 with 1 Axes>"
      ]
     },
     "metadata": {},
     "output_type": "display_data"
    }
   ],
   "source": [
    "def clean_and_convert(value):\n",
    "    if isinstance(value, str):  # check if the value is a string\n",
    "        value = value.lower().replace(\"milliom\", \"million\").replace(\"milllion\", \"million\")\n",
    "        value = value.replace(\"million\", \"\").strip()\n",
    "        try:\n",
    "            return float(value) * 1e6\n",
    "        except ValueError:\n",
    "            return None\n",
    "    elif isinstance(value, (int, float)):  # if it's already a number, just return it\n",
    "        return value\n",
    "    else:  # for other types, return None or handle differently\n",
    "        return None\n",
    "\n",
    "# Apply the function to the number_of_fans column\n",
    "data['number_of_fans'] = data['number_of_fans'].apply(clean_and_convert)\n",
    "\n",
    "# Drop NaN values (if any conversion failed)\n",
    "data = data.dropna(subset=['number_of_fans'])\n",
    "\n",
    "# Generate unique colors for each team\n",
    "colors = plt.cm.tab20(range(20))\n",
    "\n",
    "# Create the pie chart\n",
    "plt.figure(figsize=(12, 8))\n",
    "plt.pie(data['number_of_fans'], labels=data['club'], colors=colors, autopct='%1.1f%%', startangle=90)\n",
    "\n",
    "plt.axis('equal')  # Equal aspect ratio ensures pie is drawn as a circle.\n",
    "plt.title('Distribution of Fans by Team')\n",
    "plt.show()"
   ]
  },
  {
   "cell_type": "code",
   "execution_count": null,
   "id": "20276c5b-da6d-4eac-bee5-63cef111cc98",
   "metadata": {},
   "outputs": [],
   "source": []
  },
  {
   "cell_type": "code",
   "execution_count": null,
   "id": "11ee5c8a-1682-4ff1-a84a-9dd4d38a1343",
   "metadata": {},
   "outputs": [],
   "source": []
  }
 ],
 "metadata": {
  "kernelspec": {
   "display_name": "Python 3 (ipykernel)",
   "language": "python",
   "name": "python3"
  },
  "language_info": {
   "codemirror_mode": {
    "name": "ipython",
    "version": 3
   },
   "file_extension": ".py",
   "mimetype": "text/x-python",
   "name": "python",
   "nbconvert_exporter": "python",
   "pygments_lexer": "ipython3",
   "version": "3.11.4"
  }
 },
 "nbformat": 4,
 "nbformat_minor": 5
}
